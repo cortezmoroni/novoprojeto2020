{
  "nbformat": 4,
  "nbformat_minor": 0,
  "metadata": {
    "colab": {
      "name": "pythonintroducao",
      "provenance": [],
      "collapsed_sections": [],
      "authorship_tag": "ABX9TyNHiuYeSZ5Sso7MnynF+zP5",
      "include_colab_link": true
    },
    "kernelspec": {
      "name": "python3",
      "display_name": "Python 3"
    }
  },
  "cells": [
    {
      "cell_type": "markdown",
      "metadata": {
        "id": "view-in-github",
        "colab_type": "text"
      },
      "source": [
        "<a href=\"https://colab.research.google.com/github/cortezmoroni/novoprojeto2020/blob/master/pythonintroducao.ipynb\" target=\"_parent\"><img src=\"https://colab.research.google.com/assets/colab-badge.svg\" alt=\"Open In Colab\"/></a>"
      ]
    },
    {
      "cell_type": "code",
      "metadata": {
        "id": "-U5G49XYY-RO",
        "outputId": "bfdf27b0-f9ad-4c72-a857-e148a1b970d5",
        "colab": {
          "base_uri": "https://localhost:8080/",
          "height": 34
        }
      },
      "source": [
        "print(\"hello world\")"
      ],
      "execution_count": null,
      "outputs": [
        {
          "output_type": "stream",
          "text": [
            "hello world\n"
          ],
          "name": "stdout"
        }
      ]
    },
    {
      "cell_type": "code",
      "metadata": {
        "id": "10_TXysjyzXs",
        "outputId": "48463560-b526-43c7-ab6c-8005f4e5af9a",
        "colab": {
          "base_uri": "https://localhost:8080/",
          "height": 102
        }
      },
      "source": [
        "print (type(2)) # o tipo de numero de 2 é int (numero inteiro)\n",
        "print (type(2.5)) # o tipo numero e 2.5 é float (numero decimal)\n",
        "print(type(1+1j)) # o numero 1 + 1j (j e o numero imaginario) e complex\n",
        "print (type('o \"termo\" esta entre aspas\\n')) # sequencia de caracter \n",
        "print(type(False)) # tipo booleano para verdadeiro (true) e false (falso)"
      ],
      "execution_count": null,
      "outputs": [
        {
          "output_type": "stream",
          "text": [
            "<class 'int'>\n",
            "<class 'float'>\n",
            "<class 'complex'>\n",
            "<class 'str'>\n",
            "<class 'bool'>\n"
          ],
          "name": "stdout"
        }
      ]
    },
    {
      "cell_type": "markdown",
      "metadata": {
        "id": "AgECUPyp4dod"
      },
      "source": [
        ""
      ]
    },
    {
      "cell_type": "code",
      "metadata": {
        "id": "CtaHor1-4ta-"
      },
      "source": [
        "altura = 1.98 # nome_da_variavel = valor\n",
        "texto = \"hello world\"\n",
        "chovendo = False"
      ],
      "execution_count": null,
      "outputs": []
    },
    {
      "cell_type": "markdown",
      "metadata": {
        "id": "TybXT0Eq51lx"
      },
      "source": [
        "dados numericos\n"
      ]
    },
    {
      "cell_type": "code",
      "metadata": {
        "id": "-NHJnjiS53pV",
        "outputId": "9e599b5f-97be-411e-c690-815d3fe7202c",
        "colab": {
          "base_uri": "https://localhost:8080/",
          "height": 85
        }
      },
      "source": [
        "print(2.5+5j+1) # o '+' e a soma usual\n",
        "print (10-1) # o '-' subtracao usual\n",
        "print (2 * -2.5) # o '*'  e a multiplicacao usual\n",
        "print (10 / 3) # o '/' e a divisao usual\n",
        "\n"
      ],
      "execution_count": null,
      "outputs": [
        {
          "output_type": "stream",
          "text": [
            "(3.5+5j)\n",
            "9\n",
            "-5.0\n",
            "3.3333333333333335\n"
          ],
          "name": "stdout"
        }
      ]
    },
    {
      "cell_type": "markdown",
      "metadata": {
        "id": "udbL_hI582ym"
      },
      "source": [
        "com dados\n"
      ]
    },
    {
      "cell_type": "code",
      "metadata": {
        "id": "jmRz2Aub84Yt",
        "outputId": "ca019aa9-71da-4454-8b69-b05cc871dd43",
        "colab": {
          "base_uri": "https://localhost:8080/",
          "height": 51
        }
      },
      "source": [
        "anos = input( \" digite sua idade:\")\n",
        "frase =  \"ola sou gui e tenho \" + anos + \"anos\"   # o '+' e a concatenacao\n",
        "print(frase)\n",
        "\n"
      ],
      "execution_count": null,
      "outputs": [
        {
          "output_type": "stream",
          "text": [
            " digite sua idade:29\n",
            "ola sou gui e tenho 29anos\n"
          ],
          "name": "stdout"
        }
      ]
    }
  ]
}